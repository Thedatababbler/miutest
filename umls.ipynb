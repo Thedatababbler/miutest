{
 "cells": [
  {
   "cell_type": "code",
   "execution_count": 2,
   "metadata": {},
   "outputs": [],
   "source": [
    "umls_path = '../2023AB/META/'\n",
    "\n"
   ]
  },
  {
   "cell_type": "code",
   "execution_count": 4,
   "metadata": {},
   "outputs": [
    {
     "name": "stdout",
     "output_type": "stream",
     "text": [
      "C0000005|L0000005|S0007492|A26634265|AUI|D012711|AT212456753||TH|MSH|UNK (19XX)|N||\n",
      "\n"
     ]
    }
   ],
   "source": [
    "attr_path = umls_path + 'MRSAT.RRF'\n",
    "with open(attr_path, 'r') as file:\n",
    "    attr_file = file.readline()\n",
    "    print(attr_file)"
   ]
  },
  {
   "cell_type": "code",
   "execution_count": 5,
   "metadata": {},
   "outputs": [
    {
     "name": "stdout",
     "output_type": "stream",
     "text": [
      "C0000039|A0016515|AT38152019||MSH|Synthetic phospholipid used in liposomes and lipid bilayers to study biological membranes. It is also a major constituent of PULMONARY SURFACTANTS.|N||\n",
      "\n"
     ]
    }
   ],
   "source": [
    "def_path = umls_path + 'MRDEF.RRF'\n",
    "with open(def_path, 'r') as file:\n",
    "    def_file = file.readline()\n",
    "    print(def_file)"
   ]
  },
  {
   "cell_type": "code",
   "execution_count": 12,
   "metadata": {},
   "outputs": [
    {
     "name": "stdout",
     "output_type": "stream",
     "text": [
      "A skin condition, also known as cutaneous condition, is any medical condition that affects the integumentary system—the organ system that encloses the body and includes skin, nails, and related muscle and glands. The major function of this system is as a barrier against the external environment.Conditions of the human integumentary system constitute a broad spectrum of diseases, also known as dermatoses, as well as many nonpathologic states (like, in certain circumstances, melanonychia and racquet nails). While only a small number of skin diseases account for most visits to the physician, thousands of skin conditions have been described. Classification of these conditions often presents many nosological challenges, since underlying causes and pathogenetics are often not known. Therefore, most current textbooks present a classification based on location (for example, conditions of the mucous membrane), morphology (chronic blistering conditions), cause (skin conditions resulting from physical factors), and so on.Clinically, the diagnosis of any particular skin condition begins by gathering pertinent information of the presenting skin lesion(s), including: location (e.g. arms, head, legs); symptoms (pruritus, pain); duration (acute or chronic); arrangement (solitary, generalized, annular, linear); morphology (macules, papules, vesicles); and color (red, yellow, etc.). Some diagnoses may also require a skin biopsy which yields histologic information that can be correlated with the clinical presentation and any laboratory data. The introduction of cutaneous ultrasound has allowed the detection of cutaneous tumors, inflammatory processes, and skin diseases.\n"
     ]
    }
   ],
   "source": [
    "\n",
    "# importing the module\n",
    "import wikipedia \n",
    " \n",
    "# finding result for the search\n",
    "# sentences = 2 refers to numbers of line\n",
    "result = wikipedia.summary(\"skin lesion\") \n",
    " \n",
    "# printing the result\n",
    "print(result) "
   ]
  },
  {
   "cell_type": "code",
   "execution_count": null,
   "metadata": {},
   "outputs": [],
   "source": []
  }
 ],
 "metadata": {
  "kernelspec": {
   "display_name": "test",
   "language": "python",
   "name": "python3"
  },
  "language_info": {
   "codemirror_mode": {
    "name": "ipython",
    "version": 3
   },
   "file_extension": ".py",
   "mimetype": "text/x-python",
   "name": "python",
   "nbconvert_exporter": "python",
   "pygments_lexer": "ipython3",
   "version": "3.7.12"
  },
  "orig_nbformat": 4
 },
 "nbformat": 4,
 "nbformat_minor": 2
}
